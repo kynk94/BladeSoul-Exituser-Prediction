{
 "cells": [
  {
   "cell_type": "code",
   "execution_count": 1,
   "metadata": {},
   "outputs": [],
   "source": [
    "import pandas as pd"
   ]
  },
  {
   "cell_type": "markdown",
   "metadata": {},
   "source": [
    "# auto 계정을 추려내기 위해서 다음의 데이터를 사용한다.\n",
    "* 중복거래 데이터\n",
    "* 활동데이터"
   ]
  },
  {
   "cell_type": "code",
   "execution_count": 2,
   "metadata": {},
   "outputs": [],
   "source": [
    "tr = pd.read_csv('../3.통합/4.주당평균_파생변수/train_create_mean.csv')\n",
    "te = pd.read_csv('../3.통합/4.주당평균_파생변수/test_create_mean.csv')\n",
    "to = pd.concat([tr, te], sort=False).reset_index(drop=True)\n",
    "source = pd.read_csv('auto_source_dup.csv')\n",
    "target = pd.read_csv('auto_target_dup.csv')\n",
    "hard = pd.read_csv('hard_list.csv')"
   ]
  },
  {
   "cell_type": "code",
   "execution_count": 3,
   "metadata": {},
   "outputs": [],
   "source": [
    "to_source = pd.merge(to, source, on='acc_id', how='inner')\n",
    "to_target = pd.merge(to, target, on='acc_id', how='inner')\n",
    "to_hard = pd.merge(to, hard, on='acc_id', how='inner')"
   ]
  },
  {
   "cell_type": "code",
   "execution_count": 4,
   "metadata": {
    "scrolled": true
   },
   "outputs": [
    {
     "name": "stdout",
     "output_type": "stream",
     "text": [
      "['acc_id', 'label', 'activated_wk', 'avg_cnt_dt', 'avg_play_time', 'avg_npc_exp', 'avg_npc_hongmun', 'avg_quest_exp', 'avg_quest_hongmun', 'avg_item_hongmun', 'avg_game_combat_time', 'avg_get_money', 'avg_duel_cnt', 'avg_duel_win', 'avg_partybattle_cnt', 'avg_partybattle_win', 'avg_cnt_enter_inzone_solo', 'avg_cnt_enter_inzone_light', 'avg_cnt_enter_inzone_skilled', 'avg_cnt_enter_inzone_normal', 'avg_cnt_enter_raid', 'avg_cnt_enter_raid_light', 'avg_cnt_enter_bam', 'avg_cnt_clear_inzone_solo', 'avg_cnt_clear_inzone_light', 'avg_cnt_clear_inzone_skilled', 'avg_cnt_clear_inzone_normal', 'avg_cnt_clear_raid', 'avg_cnt_clear_raid_light', 'avg_cnt_clear_bam', 'avg_normal_chat', 'avg_whisper_chat', 'avg_district_chat', 'avg_party_chat', 'avg_guild_chat', 'avg_faction_chat', 'avg_cnt_use_buffitem', 'avg_gathering_cnt', 'avg_making_cnt', 'avg_party_time', 'avg_party_count', 'avg_party_mem_count', 'avg_mean_party_time', 'avg_mean_party_mem', 'total_guild_mem', 'guild_count', 'max_guild_mem', 'mean_guild_mem', 'avg_trade_count', 'avg_rec_count', 'avg_give_count', 'avg_rec_money_count', 'avg_rec_money_sum', 'avg_give_money_count', 'avg_give_money_sum', 'avg_rec_grocery_count', 'avg_rec_grocery_sum', 'avg_give_grocery_count', 'avg_give_grocery_sum', 'avg_rec_gem_count', 'avg_rec_gem_sum', 'avg_give_gem_count', 'avg_give_gem_sum', 'avg_rec_accessory_count', 'avg_rec_accessory_sum', 'avg_give_accessory_count', 'avg_give_accessory_sum', 'avg_rec_weapon_count', 'avg_rec_weapon_sum', 'avg_give_weapon_count', 'avg_give_weapon_sum', 'avg_rec_costume_count', 'avg_rec_costume_sum', 'avg_give_costume_count', 'avg_give_costume_sum', 'avg_payment_amount', 'trade_acc_count', 'total_trade_count', 'dup_rec_acc_count', 'dup_rec_count', 'dup_give_acc_count', 'dup_give_count', 'avg_X1', 'avg_X2', 'avg_X3', 'avg_X4', 'avg_X5', 'avg_X6', 'avg_X7', 'avg_X8', 'avg_X9', 'avg_X10', 'avg_X11', 'avg_X12', 'avg_X13', 'avg_X14', 'avg_X15', 'avg_X16', 'avg_X17', 'avg_X18', 'avg_X19', 'avg_X20', 'avg_X21', 'avg_X22', 'avg_X23', 'avg_X24', 'avg_X25', 'avg_X26', 'avg_X27', 'avg_X28', 'avg_X29', 'avg_X30', 'avg_X31', 'avg_X32', 'avg_X33', 'avg_X34']\n"
     ]
    }
   ],
   "source": [
    "print(list(to.columns))"
   ]
  },
  {
   "cell_type": "code",
   "execution_count": 5,
   "metadata": {},
   "outputs": [],
   "source": [
    "# and 조건\n",
    "sou_res = to_source[\n",
    "    # 개미 계정은 레이드 참가가 불가능하다.\n",
    "    (to_source['avg_cnt_enter_raid']==0)\n",
    "    & (to_source['avg_cnt_enter_raid_light']==0)\n",
    "    & (to_source['avg_cnt_enter_bam']==0)\n",
    "    # 개미 계정은 캐쉬 충전을 하지 않는다.\n",
    "    & (to_source['avg_payment_amount']==0)\n",
    "    # 개미 계정은 돈과 잡화만 관리자에게 공급한다.\n",
    "    & (to_source['avg_give_money_count']>0)\n",
    "    & (to_source['avg_give_grocery_count']>0)\n",
    "    & (to_source['avg_give_weapon_count']==0)\n",
    "    & (to_source['avg_give_accessory_count']==0)\n",
    "    & (to_source['avg_give_gem_count']==0)\n",
    "    & (to_source['avg_give_costume_count']==0)\n",
    "    # 개미 계정은 전투를 통해 재화를 번다.\n",
    "    & (to_source['avg_game_combat_time']>=30)\n",
    "    # 개미 계정은 길드가 없음\n",
    "    & (to_source['guild_count']==0)\n",
    "    # 동일 관리자 계정에 반복하여 재화를 공급한다.\n",
    "    & (to_source['dup_give_count']>0)\n",
    "    & (to_source['avg_give_money_sum']>to_source['avg_rec_money_sum'])\n",
    "    & (to_source['avg_give_grocery_sum']>to_source['avg_rec_grocery_sum'])\n",
    "]\n",
    "\n",
    "# or 조건\n",
    "sou_res = sou_res[\n",
    "    (sou_res['avg_cnt_enter_inzone_solo']>0)\n",
    "    | (sou_res['avg_cnt_enter_inzone_light']>0)\n",
    "    | (sou_res['avg_cnt_enter_inzone_skilled']>0)\n",
    "    | (sou_res['avg_cnt_enter_inzone_normal']>0)\n",
    "].reset_index(drop=True)"
   ]
  },
  {
   "cell_type": "code",
   "execution_count": 6,
   "metadata": {
    "scrolled": false
   },
   "outputs": [],
   "source": [
    "# auto 기준과 hard 기준의 중복 계정\n",
    "# 해당 계정들은 hard 유저가 아닌 auto 계정으로 판별됨.\n",
    "auto_hard = pd.merge(sou_res, hard, on='acc_id', how='inner')\n",
    "auto = auto_hard[auto_hard['avg_trade_count']>5]\n",
    "hard = pd.DataFrame(set(hard['acc_id']) - set(auto['acc_id'])).rename(columns={0: 'acc_id'})\n",
    "auto = pd.DataFrame(set(sou_res['acc_id']) - set(hard['acc_id'])).rename(columns={0: 'acc_id'})"
   ]
  },
  {
   "cell_type": "code",
   "execution_count": 7,
   "metadata": {},
   "outputs": [
    {
     "data": {
      "text/html": [
       "<div>\n",
       "<style scoped>\n",
       "    .dataframe tbody tr th:only-of-type {\n",
       "        vertical-align: middle;\n",
       "    }\n",
       "\n",
       "    .dataframe tbody tr th {\n",
       "        vertical-align: top;\n",
       "    }\n",
       "\n",
       "    .dataframe thead th {\n",
       "        text-align: right;\n",
       "    }\n",
       "</style>\n",
       "<table border=\"1\" class=\"dataframe\">\n",
       "  <thead>\n",
       "    <tr style=\"text-align: right;\">\n",
       "      <th></th>\n",
       "      <th>acc_id</th>\n",
       "      <th>ant_id</th>\n",
       "      <th>master_id</th>\n",
       "    </tr>\n",
       "  </thead>\n",
       "  <tbody>\n",
       "    <tr>\n",
       "      <th>0</th>\n",
       "      <td>bd2246b643465f2f920c14cf8fa52b53d119b3fc80d654...</td>\n",
       "      <td>1</td>\n",
       "      <td>0</td>\n",
       "    </tr>\n",
       "    <tr>\n",
       "      <th>1</th>\n",
       "      <td>1120f5119d9d0251df7a7a50389fbb297b4a8f2b96ff97...</td>\n",
       "      <td>1</td>\n",
       "      <td>0</td>\n",
       "    </tr>\n",
       "    <tr>\n",
       "      <th>2</th>\n",
       "      <td>b60d9d6277bffdd4d22c3ce2d8e68183be70e670dbef27...</td>\n",
       "      <td>1</td>\n",
       "      <td>0</td>\n",
       "    </tr>\n",
       "    <tr>\n",
       "      <th>3</th>\n",
       "      <td>8d485357d6e0a8b197d91c5259528bb188b1a5f59f6cb1...</td>\n",
       "      <td>1</td>\n",
       "      <td>0</td>\n",
       "    </tr>\n",
       "    <tr>\n",
       "      <th>4</th>\n",
       "      <td>c452fbfeb1e6360c42fb00f781ddde91a416c3e3f42b7d...</td>\n",
       "      <td>1</td>\n",
       "      <td>0</td>\n",
       "    </tr>\n",
       "  </tbody>\n",
       "</table>\n",
       "</div>"
      ],
      "text/plain": [
       "                                              acc_id  ant_id  master_id\n",
       "0  bd2246b643465f2f920c14cf8fa52b53d119b3fc80d654...       1          0\n",
       "1  1120f5119d9d0251df7a7a50389fbb297b4a8f2b96ff97...       1          0\n",
       "2  b60d9d6277bffdd4d22c3ce2d8e68183be70e670dbef27...       1          0\n",
       "3  8d485357d6e0a8b197d91c5259528bb188b1a5f59f6cb1...       1          0\n",
       "4  c452fbfeb1e6360c42fb00f781ddde91a416c3e3f42b7d...       1          0"
      ]
     },
     "execution_count": 7,
     "metadata": {},
     "output_type": "execute_result"
    }
   ],
   "source": [
    "auto['ant_id'] = 1\n",
    "auto['master_id'] = 0\n",
    "auto.head()"
   ]
  },
  {
   "cell_type": "code",
   "execution_count": 8,
   "metadata": {},
   "outputs": [],
   "source": [
    "tar_res = to_target[\n",
    "    (to_target['avg_cnt_enter_raid']==0)\n",
    "    & (to_target['avg_cnt_enter_raid_light']==0)\n",
    "    & (to_target['avg_payment_amount']==0)\n",
    "    & (to_target['avg_rec_count']>10)\n",
    "    & (to_target['avg_rec_money_sum']>1000)\n",
    "    & (to_target['avg_rec_grocery_count']>0)\n",
    "    & (to_target['dup_rec_acc_count']>1)\n",
    "]"
   ]
  },
  {
   "cell_type": "code",
   "execution_count": 9,
   "metadata": {},
   "outputs": [
    {
     "data": {
      "text/html": [
       "<div>\n",
       "<style scoped>\n",
       "    .dataframe tbody tr th:only-of-type {\n",
       "        vertical-align: middle;\n",
       "    }\n",
       "\n",
       "    .dataframe tbody tr th {\n",
       "        vertical-align: top;\n",
       "    }\n",
       "\n",
       "    .dataframe thead th {\n",
       "        text-align: right;\n",
       "    }\n",
       "</style>\n",
       "<table border=\"1\" class=\"dataframe\">\n",
       "  <thead>\n",
       "    <tr style=\"text-align: right;\">\n",
       "      <th></th>\n",
       "      <th>acc_id</th>\n",
       "      <th>ant_id</th>\n",
       "      <th>master_id</th>\n",
       "    </tr>\n",
       "  </thead>\n",
       "  <tbody>\n",
       "    <tr>\n",
       "      <th>0</th>\n",
       "      <td>0b19aa719ec53186bc2b55e8809e71dcfa15eb6314e8e6...</td>\n",
       "      <td>0</td>\n",
       "      <td>1</td>\n",
       "    </tr>\n",
       "    <tr>\n",
       "      <th>1</th>\n",
       "      <td>0cf7cff311ce5f7de395711f7cba8667700e0e537fcefb...</td>\n",
       "      <td>0</td>\n",
       "      <td>1</td>\n",
       "    </tr>\n",
       "    <tr>\n",
       "      <th>2</th>\n",
       "      <td>0fa9635d0fbd779cdfe016de4544ca2f686533d2d71d25...</td>\n",
       "      <td>0</td>\n",
       "      <td>1</td>\n",
       "    </tr>\n",
       "    <tr>\n",
       "      <th>3</th>\n",
       "      <td>1453bef5863d9dc48510ffccf742f8d52249ea55605e91...</td>\n",
       "      <td>0</td>\n",
       "      <td>1</td>\n",
       "    </tr>\n",
       "    <tr>\n",
       "      <th>4</th>\n",
       "      <td>14555f035fb0af110fd483b8e0c1faa955d7fbfe716a0d...</td>\n",
       "      <td>0</td>\n",
       "      <td>1</td>\n",
       "    </tr>\n",
       "  </tbody>\n",
       "</table>\n",
       "</div>"
      ],
      "text/plain": [
       "                                              acc_id  ant_id  master_id\n",
       "0  0b19aa719ec53186bc2b55e8809e71dcfa15eb6314e8e6...       0          1\n",
       "1  0cf7cff311ce5f7de395711f7cba8667700e0e537fcefb...       0          1\n",
       "2  0fa9635d0fbd779cdfe016de4544ca2f686533d2d71d25...       0          1\n",
       "3  1453bef5863d9dc48510ffccf742f8d52249ea55605e91...       0          1\n",
       "4  14555f035fb0af110fd483b8e0c1faa955d7fbfe716a0d...       0          1"
      ]
     },
     "execution_count": 9,
     "metadata": {},
     "output_type": "execute_result"
    }
   ],
   "source": [
    "master = pd.DataFrame(tar_res['acc_id']).reset_index(drop=True).rename(columns={0: 'acc_id'})\n",
    "hard = pd.DataFrame(set(hard['acc_id']) - set(master['acc_id'])).rename(columns={0: 'acc_id'})\n",
    "master['ant_id'] = 0\n",
    "master['master_id'] = 1\n",
    "master.head()"
   ]
  },
  {
   "cell_type": "code",
   "execution_count": 10,
   "metadata": {},
   "outputs": [
    {
     "name": "stdout",
     "output_type": "stream",
     "text": [
      "                  acc_id\n",
      "ant_id master_id        \n",
      "0      1             120\n",
      "1      0           21748\n"
     ]
    }
   ],
   "source": [
    "auto_list = pd.concat([auto, master]).sort_values(by='acc_id').reset_index(drop=True)\n",
    "print(auto_list.groupby(['ant_id', 'master_id']).count())\n",
    "auto_list['auto_id']=1"
   ]
  },
  {
   "cell_type": "code",
   "execution_count": 11,
   "metadata": {},
   "outputs": [],
   "source": [
    "auto_list.to_csv('auto_list.csv', index=False)\n",
    "hard.to_csv('hard_list_remove_auto.csv', index=False)"
   ]
  }
 ],
 "metadata": {
  "kernelspec": {
   "display_name": "Python 3",
   "language": "python",
   "name": "python3"
  },
  "language_info": {
   "codemirror_mode": {
    "name": "ipython",
    "version": 3
   },
   "file_extension": ".py",
   "mimetype": "text/x-python",
   "name": "python",
   "nbconvert_exporter": "python",
   "pygments_lexer": "ipython3",
   "version": "3.7.3"
  }
 },
 "nbformat": 4,
 "nbformat_minor": 1
}
