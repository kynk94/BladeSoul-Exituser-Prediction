{
 "cells": [
  {
   "cell_type": "code",
   "execution_count": 1,
   "metadata": {},
   "outputs": [],
   "source": [
    "import pandas as pd"
   ]
  },
  {
   "cell_type": "markdown",
   "metadata": {},
   "source": [
    "# trade 데이터로부터 이상값들을 추적한다."
   ]
  },
  {
   "cell_type": "code",
   "execution_count": 2,
   "metadata": {},
   "outputs": [
    {
     "data": {
      "text/plain": [
       "Index(['trade_week', 'trade_day', 'trade_time', 'source_acc_id',\n",
       "       'target_acc_id', 'item_type', 'item_amount'],\n",
       "      dtype='object')"
      ]
     },
     "execution_count": 2,
     "metadata": {},
     "output_type": "execute_result"
    }
   ],
   "source": [
    "tr = pd.read_csv('../preprocess/train_trade_pre.csv')\n",
    "te = pd.read_csv('../preprocess/test_trade_pre.csv')\n",
    "to = pd.concat([tr, te]).drop_duplicates().sort_values(by=list(tr.columns)).reset_index(drop=True)\n",
    "to.columns"
   ]
  },
  {
   "cell_type": "markdown",
   "metadata": {},
   "source": [
    "# auto 계정들과, 버스기사, 골드 구매자를 구분하기 위한 과정이다.\n",
    "# source가 target에게 여러가지 재화를 지급한 목록을 구한다. "
   ]
  },
  {
   "cell_type": "code",
   "execution_count": 3,
   "metadata": {},
   "outputs": [
    {
     "name": "stdout",
     "output_type": "stream",
     "text": [
      "Number of duplicated Source : 106926\n",
      "Number of duplicated Target : 9897\n"
     ]
    }
   ],
   "source": [
    "dup = to[to.duplicated(['trade_week','trade_day','trade_time','source_acc_id','target_acc_id'])]\n",
    "\n",
    "sou = pd.DataFrame(dup['source_acc_id'].unique())\n",
    "tar = pd.DataFrame(dup['target_acc_id'].unique())\n",
    "sou.rename(columns={0:'acc_id'}, inplace=True)\n",
    "tar.rename(columns={0:'acc_id'}, inplace=True)\n",
    "sou = sou.sort_values(by='acc_id').reset_index(drop=True)\n",
    "tar = tar.sort_values(by='acc_id').reset_index(drop=True)\n",
    "\n",
    "print('Number of duplicated Source : {}\\nNumber of duplicated Target : {}'.format(len(sou), len(tar)))"
   ]
  },
  {
   "cell_type": "markdown",
   "metadata": {},
   "source": [
    "# Auto 분류는 sou, tar 데이터를 이용하여 2번 스크립트에서 추려내며,\n",
    "# 현재 1번 스크립트에서는 버스기사나 레이드 활동자를 추려낸다."
   ]
  },
  {
   "cell_type": "code",
   "execution_count": 4,
   "metadata": {},
   "outputs": [],
   "source": [
    "tar.to_csv('auto_target_dup.csv', index=False)\n",
    "sou = pd.DataFrame(set(sou['acc_id']) - set(tar['acc_id'])).rename(columns={0:'acc_id'}).sort_values(by='acc_id')\n",
    "sou.to_csv('auto_source_dup.csv', index=False)"
   ]
  },
  {
   "cell_type": "markdown",
   "metadata": {},
   "source": [
    "# 버스기사 또는 레이드 이익잉여금 분배는 다음과 같이 이뤄진다.\n",
    "* 1명의 Source가 money를 같은 금액으로 다수의 Target과 나눠가진다.\n",
    "* 때문에 duplicated 조건에 source_acc_id와 item_amount가 반드시 포함되어야 한다."
   ]
  },
  {
   "cell_type": "code",
   "execution_count": 5,
   "metadata": {
    "scrolled": true
   },
   "outputs": [
    {
     "data": {
      "text/html": [
       "<div>\n",
       "<style scoped>\n",
       "    .dataframe tbody tr th:only-of-type {\n",
       "        vertical-align: middle;\n",
       "    }\n",
       "\n",
       "    .dataframe tbody tr th {\n",
       "        vertical-align: top;\n",
       "    }\n",
       "\n",
       "    .dataframe thead th {\n",
       "        text-align: right;\n",
       "    }\n",
       "</style>\n",
       "<table border=\"1\" class=\"dataframe\">\n",
       "  <thead>\n",
       "    <tr style=\"text-align: right;\">\n",
       "      <th></th>\n",
       "      <th>trade_week</th>\n",
       "      <th>trade_day</th>\n",
       "      <th>trade_time</th>\n",
       "      <th>source_acc_id</th>\n",
       "      <th>target_acc_id</th>\n",
       "      <th>item_type</th>\n",
       "      <th>item_amount</th>\n",
       "    </tr>\n",
       "  </thead>\n",
       "  <tbody>\n",
       "    <tr>\n",
       "      <th>27</th>\n",
       "      <td>1</td>\n",
       "      <td>1</td>\n",
       "      <td>00:00:13</td>\n",
       "      <td>2787d157b3e525366c5ab3abdce58eea840b054f054817...</td>\n",
       "      <td>3c4778dd996dff88720acbbf95b0d49ab5f559403501a3...</td>\n",
       "      <td>money</td>\n",
       "      <td>220.0</td>\n",
       "    </tr>\n",
       "    <tr>\n",
       "      <th>35</th>\n",
       "      <td>1</td>\n",
       "      <td>1</td>\n",
       "      <td>00:00:17</td>\n",
       "      <td>a4785c1f445c5b9e93e84fac2ff7709e30caca844d5c01...</td>\n",
       "      <td>157dce3404f0fa27ee842dcfb3d4c82aa4eb2e94ff76b3...</td>\n",
       "      <td>money</td>\n",
       "      <td>220.0</td>\n",
       "    </tr>\n",
       "    <tr>\n",
       "      <th>36</th>\n",
       "      <td>1</td>\n",
       "      <td>1</td>\n",
       "      <td>00:00:19</td>\n",
       "      <td>cee3a04d387f99422402a1984eb8f002c4368dc78b4dba...</td>\n",
       "      <td>0f0819d7646b3f7dbeac6e1d08efe54dae35bdf343f22b...</td>\n",
       "      <td>money</td>\n",
       "      <td>4500.0</td>\n",
       "    </tr>\n",
       "    <tr>\n",
       "      <th>46</th>\n",
       "      <td>1</td>\n",
       "      <td>1</td>\n",
       "      <td>00:00:26</td>\n",
       "      <td>cee3a04d387f99422402a1984eb8f002c4368dc78b4dba...</td>\n",
       "      <td>cb73cb11a224821423b269b8a95d111b056dd6777a946e...</td>\n",
       "      <td>money</td>\n",
       "      <td>4500.0</td>\n",
       "    </tr>\n",
       "    <tr>\n",
       "      <th>47</th>\n",
       "      <td>1</td>\n",
       "      <td>1</td>\n",
       "      <td>00:00:27</td>\n",
       "      <td>2787d157b3e525366c5ab3abdce58eea840b054f054817...</td>\n",
       "      <td>32bf3bcac278f6ca6dc94e48283641609e401f3c849d0a...</td>\n",
       "      <td>money</td>\n",
       "      <td>220.0</td>\n",
       "    </tr>\n",
       "  </tbody>\n",
       "</table>\n",
       "</div>"
      ],
      "text/plain": [
       "    trade_week  trade_day trade_time  \\\n",
       "27           1          1   00:00:13   \n",
       "35           1          1   00:00:17   \n",
       "36           1          1   00:00:19   \n",
       "46           1          1   00:00:26   \n",
       "47           1          1   00:00:27   \n",
       "\n",
       "                                        source_acc_id  \\\n",
       "27  2787d157b3e525366c5ab3abdce58eea840b054f054817...   \n",
       "35  a4785c1f445c5b9e93e84fac2ff7709e30caca844d5c01...   \n",
       "36  cee3a04d387f99422402a1984eb8f002c4368dc78b4dba...   \n",
       "46  cee3a04d387f99422402a1984eb8f002c4368dc78b4dba...   \n",
       "47  2787d157b3e525366c5ab3abdce58eea840b054f054817...   \n",
       "\n",
       "                                        target_acc_id item_type  item_amount  \n",
       "27  3c4778dd996dff88720acbbf95b0d49ab5f559403501a3...     money        220.0  \n",
       "35  157dce3404f0fa27ee842dcfb3d4c82aa4eb2e94ff76b3...     money        220.0  \n",
       "36  0f0819d7646b3f7dbeac6e1d08efe54dae35bdf343f22b...     money       4500.0  \n",
       "46  cb73cb11a224821423b269b8a95d111b056dd6777a946e...     money       4500.0  \n",
       "47  32bf3bcac278f6ca6dc94e48283641609e401f3c849d0a...     money        220.0  "
      ]
     },
     "execution_count": 5,
     "metadata": {},
     "output_type": "execute_result"
    }
   ],
   "source": [
    "bus_or_raid = to[to.duplicated(['trade_week', 'source_acc_id', 'item_type', 'item_amount'])]\n",
    "bus_or_raid.head()"
   ]
  },
  {
   "cell_type": "code",
   "execution_count": 6,
   "metadata": {
    "scrolled": true
   },
   "outputs": [],
   "source": [
    "money_trader = bus_or_raid[bus_or_raid['item_type']=='money']\n",
    "driver_receiver = sorted(set(money_trader['source_acc_id']) | set(money_trader['target_acc_id']))\n",
    "b_or_r = pd.DataFrame(driver_receiver).rename(columns={0: 'acc_id'})"
   ]
  },
  {
   "cell_type": "code",
   "execution_count": 7,
   "metadata": {
    "scrolled": true
   },
   "outputs": [],
   "source": [
    "driver = pd.merge(to, b_or_r.rename(columns={'acc_id': 'source_acc_id'}), how='inner').sort_values(by=list(to.columns))"
   ]
  },
  {
   "cell_type": "markdown",
   "metadata": {},
   "source": [
    "### 1000 금 이상 오간 데이터만 확인한다."
   ]
  },
  {
   "cell_type": "code",
   "execution_count": 8,
   "metadata": {
    "scrolled": true
   },
   "outputs": [
    {
     "data": {
      "text/html": [
       "<div>\n",
       "<style scoped>\n",
       "    .dataframe tbody tr th:only-of-type {\n",
       "        vertical-align: middle;\n",
       "    }\n",
       "\n",
       "    .dataframe tbody tr th {\n",
       "        vertical-align: top;\n",
       "    }\n",
       "\n",
       "    .dataframe thead th {\n",
       "        text-align: right;\n",
       "    }\n",
       "</style>\n",
       "<table border=\"1\" class=\"dataframe\">\n",
       "  <thead>\n",
       "    <tr style=\"text-align: right;\">\n",
       "      <th></th>\n",
       "      <th>trade_week</th>\n",
       "      <th>trade_day</th>\n",
       "      <th>trade_time</th>\n",
       "      <th>source_acc_id</th>\n",
       "      <th>target_acc_id</th>\n",
       "      <th>item_type</th>\n",
       "      <th>item_amount</th>\n",
       "    </tr>\n",
       "  </thead>\n",
       "  <tbody>\n",
       "    <tr>\n",
       "      <th>0</th>\n",
       "      <td>1</td>\n",
       "      <td>1</td>\n",
       "      <td>00:00:06</td>\n",
       "      <td>cee3a04d387f99422402a1984eb8f002c4368dc78b4dba...</td>\n",
       "      <td>ed7f1e4d1322dd36a8cb73f791bbf394d7261ee402eafb...</td>\n",
       "      <td>money</td>\n",
       "      <td>4500.0</td>\n",
       "    </tr>\n",
       "    <tr>\n",
       "      <th>1</th>\n",
       "      <td>1</td>\n",
       "      <td>1</td>\n",
       "      <td>00:00:10</td>\n",
       "      <td>5e1cdb11a4b1a43f7dc8a4b9c34f5beeef2f80bace1398...</td>\n",
       "      <td>bb113c4f182d3ebce618696784c24bd5d2f9698999ca78...</td>\n",
       "      <td>money</td>\n",
       "      <td>1000.0</td>\n",
       "    </tr>\n",
       "    <tr>\n",
       "      <th>2</th>\n",
       "      <td>1</td>\n",
       "      <td>1</td>\n",
       "      <td>00:00:19</td>\n",
       "      <td>cee3a04d387f99422402a1984eb8f002c4368dc78b4dba...</td>\n",
       "      <td>0f0819d7646b3f7dbeac6e1d08efe54dae35bdf343f22b...</td>\n",
       "      <td>money</td>\n",
       "      <td>4500.0</td>\n",
       "    </tr>\n",
       "    <tr>\n",
       "      <th>3</th>\n",
       "      <td>1</td>\n",
       "      <td>1</td>\n",
       "      <td>00:00:23</td>\n",
       "      <td>7f97d8c6790830a81669c2fc391c849f750b2ad7b056e1...</td>\n",
       "      <td>d928d5a8db727cd8dd9d504e34cb1606e556e3ba3f5865...</td>\n",
       "      <td>money</td>\n",
       "      <td>7500.0</td>\n",
       "    </tr>\n",
       "    <tr>\n",
       "      <th>4</th>\n",
       "      <td>1</td>\n",
       "      <td>1</td>\n",
       "      <td>00:00:26</td>\n",
       "      <td>cee3a04d387f99422402a1984eb8f002c4368dc78b4dba...</td>\n",
       "      <td>cb73cb11a224821423b269b8a95d111b056dd6777a946e...</td>\n",
       "      <td>money</td>\n",
       "      <td>4500.0</td>\n",
       "    </tr>\n",
       "  </tbody>\n",
       "</table>\n",
       "</div>"
      ],
      "text/plain": [
       "   trade_week  trade_day trade_time  \\\n",
       "0           1          1   00:00:06   \n",
       "1           1          1   00:00:10   \n",
       "2           1          1   00:00:19   \n",
       "3           1          1   00:00:23   \n",
       "4           1          1   00:00:26   \n",
       "\n",
       "                                       source_acc_id  \\\n",
       "0  cee3a04d387f99422402a1984eb8f002c4368dc78b4dba...   \n",
       "1  5e1cdb11a4b1a43f7dc8a4b9c34f5beeef2f80bace1398...   \n",
       "2  cee3a04d387f99422402a1984eb8f002c4368dc78b4dba...   \n",
       "3  7f97d8c6790830a81669c2fc391c849f750b2ad7b056e1...   \n",
       "4  cee3a04d387f99422402a1984eb8f002c4368dc78b4dba...   \n",
       "\n",
       "                                       target_acc_id item_type  item_amount  \n",
       "0  ed7f1e4d1322dd36a8cb73f791bbf394d7261ee402eafb...     money       4500.0  \n",
       "1  bb113c4f182d3ebce618696784c24bd5d2f9698999ca78...     money       1000.0  \n",
       "2  0f0819d7646b3f7dbeac6e1d08efe54dae35bdf343f22b...     money       4500.0  \n",
       "3  d928d5a8db727cd8dd9d504e34cb1606e556e3ba3f5865...     money       7500.0  \n",
       "4  cb73cb11a224821423b269b8a95d111b056dd6777a946e...     money       4500.0  "
      ]
     },
     "execution_count": 8,
     "metadata": {},
     "output_type": "execute_result"
    }
   ],
   "source": [
    "temp = driver[(driver['item_type']=='money') & (driver['item_amount']>=1000)].reset_index(drop=True)\n",
    "temp.head()"
   ]
  },
  {
   "cell_type": "code",
   "execution_count": 9,
   "metadata": {
    "scrolled": true
   },
   "outputs": [
    {
     "name": "stdout",
     "output_type": "stream",
     "text": [
      "Number of Large Source : 27174\n",
      "Number of Large Target : 29365\n",
      "Large Trader : 32872\n"
     ]
    }
   ],
   "source": [
    "sou_acc = temp['source_acc_id'].unique()\n",
    "tar_acc = temp['target_acc_id'].unique()\n",
    "print('Number of Large Source : {}\\nNumber of Large Target : {}'.format(len(sou_acc), len(tar_acc)))\n",
    "\n",
    "print('Large Trader : {}'.format(len(set(sou_acc) | set(tar_acc))))"
   ]
  },
  {
   "cell_type": "markdown",
   "metadata": {},
   "source": [
    "### 게임에서 레이드 분배금을 나눠가지거나 큰 금액을 거래하는 이들은 32,872개.\n",
    "### 이 중 이후 판별될 auto 관리자 계정을 제거하면 게임을 열심히 즐기고 있는 유저로 생각 할 수 있다."
   ]
  },
  {
   "cell_type": "code",
   "execution_count": 10,
   "metadata": {
    "scrolled": true
   },
   "outputs": [
    {
     "data": {
      "text/html": [
       "<div>\n",
       "<style scoped>\n",
       "    .dataframe tbody tr th:only-of-type {\n",
       "        vertical-align: middle;\n",
       "    }\n",
       "\n",
       "    .dataframe tbody tr th {\n",
       "        vertical-align: top;\n",
       "    }\n",
       "\n",
       "    .dataframe thead th {\n",
       "        text-align: right;\n",
       "    }\n",
       "</style>\n",
       "<table border=\"1\" class=\"dataframe\">\n",
       "  <thead>\n",
       "    <tr style=\"text-align: right;\">\n",
       "      <th></th>\n",
       "      <th>acc_id</th>\n",
       "    </tr>\n",
       "  </thead>\n",
       "  <tbody>\n",
       "    <tr>\n",
       "      <th>0</th>\n",
       "      <td>0002cb165b57f8ab2bea2e387a3bebcd1ee57b44229150...</td>\n",
       "    </tr>\n",
       "    <tr>\n",
       "      <th>1</th>\n",
       "      <td>0004788822873725de28052e042b1f88b29a8ed6326be6...</td>\n",
       "    </tr>\n",
       "    <tr>\n",
       "      <th>2</th>\n",
       "      <td>000af534394783c3a1d28414ce6adc95af45657e34bf70...</td>\n",
       "    </tr>\n",
       "    <tr>\n",
       "      <th>3</th>\n",
       "      <td>000c7d37960d5261d7680320227e07e53580f654cf0322...</td>\n",
       "    </tr>\n",
       "    <tr>\n",
       "      <th>4</th>\n",
       "      <td>000f75da470b53684a56be7c49083451cfa58db4573900...</td>\n",
       "    </tr>\n",
       "  </tbody>\n",
       "</table>\n",
       "</div>"
      ],
      "text/plain": [
       "                                              acc_id\n",
       "0  0002cb165b57f8ab2bea2e387a3bebcd1ee57b44229150...\n",
       "1  0004788822873725de28052e042b1f88b29a8ed6326be6...\n",
       "2  000af534394783c3a1d28414ce6adc95af45657e34bf70...\n",
       "3  000c7d37960d5261d7680320227e07e53580f654cf0322...\n",
       "4  000f75da470b53684a56be7c49083451cfa58db4573900..."
      ]
     },
     "execution_count": 10,
     "metadata": {},
     "output_type": "execute_result"
    }
   ],
   "source": [
    "hard_list = pd.DataFrame(sorted(set(sou_acc) | set(tar_acc))).rename(columns={0:'acc_id'})\n",
    "hard_list.head()"
   ]
  },
  {
   "cell_type": "code",
   "execution_count": 11,
   "metadata": {},
   "outputs": [],
   "source": [
    "hard_list.to_csv('hard_list.csv', index=False)"
   ]
  }
 ],
 "metadata": {
  "kernelspec": {
   "display_name": "Python 3",
   "language": "python",
   "name": "python3"
  },
  "language_info": {
   "codemirror_mode": {
    "name": "ipython",
    "version": 3
   },
   "file_extension": ".py",
   "mimetype": "text/x-python",
   "name": "python",
   "nbconvert_exporter": "python",
   "pygments_lexer": "ipython3",
   "version": "3.7.3"
  }
 },
 "nbformat": 4,
 "nbformat_minor": 1
}
