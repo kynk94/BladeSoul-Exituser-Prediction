{
 "cells": [
  {
   "cell_type": "code",
   "execution_count": 1,
   "metadata": {},
   "outputs": [],
   "source": [
    "import pandas as pd"
   ]
  },
  {
   "cell_type": "code",
   "execution_count": 2,
   "metadata": {},
   "outputs": [],
   "source": [
    "ids = pd.read_csv(\"../total_list.csv\")"
   ]
  },
  {
   "cell_type": "code",
   "execution_count": 3,
   "metadata": {
    "scrolled": true
   },
   "outputs": [
    {
     "data": {
      "text/plain": [
       "140000"
      ]
     },
     "execution_count": 3,
     "metadata": {},
     "output_type": "execute_result"
    }
   ],
   "source": [
    "id_auto = pd.DataFrame(ids[ids['auto_id']==1]['acc_id']).rename(columns={0: 'acc_id'})\n",
    "id_human = pd.DataFrame(ids[ids['human_id']==1]['acc_id']).rename(columns={0: 'acc_id'})\n",
    "\n",
    "id_jump = ids[ids['jump_id']==1]['acc_id']\n",
    "id_jump = set(id_jump) - set(id_auto['acc_id']) - set(id_human['acc_id'])\n",
    "id_8610 = ids[ids['8610_id']==1]['acc_id']\n",
    "id_8610 = set(id_8610) - set(id_auto['acc_id']) - set(id_human['acc_id']) - set(id_jump)\n",
    "\n",
    "len(id_auto)+len(id_human)+len(id_jump)+len(id_8610)"
   ]
  },
  {
   "cell_type": "markdown",
   "metadata": {},
   "source": [
    "# 8610을 auto로 분류할지, human으로 분류할지 성능 검사를 위한 분리"
   ]
  },
  {
   "cell_type": "code",
   "execution_count": 4,
   "metadata": {},
   "outputs": [],
   "source": [
    "# 나머지 jump는 human으로 분류.\n",
    "id_human = pd.DataFrame(set(id_human['acc_id'])|set(id_jump)).rename(columns={0: 'acc_id'})\n",
    "id_human_8610 = pd.DataFrame(set(id_human['acc_id'])|set(id_8610)).rename(columns={0: 'acc_id'})\n",
    "id_auto_8610 = pd.DataFrame(set(id_auto['acc_id'])|set(id_8610)).rename(columns={0: 'acc_id'})"
   ]
  },
  {
   "cell_type": "code",
   "execution_count": 5,
   "metadata": {},
   "outputs": [
    {
     "name": "stdout",
     "output_type": "stream",
     "text": [
      "140000\n",
      "140000\n"
     ]
    }
   ],
   "source": [
    "# 8610이 person으로 들어간 데이터 프레임\n",
    "id_human_8610.to_csv(\"id_human_1.csv\", index = False)\n",
    "id_auto.to_csv(\"id_auto_1.csv\", index = False)\n",
    "print(len(id_human_8610) + len(id_auto))\n",
    "\n",
    "# 8610이 auto로 들어간 데이터 프레임\n",
    "id_human.to_csv(\"id_human_2.csv\", index = False)\n",
    "id_auto_8610.to_csv(\"id_auto_2.csv\", index = False)\n",
    "print(len(id_human) + len(id_auto_8610))"
   ]
  },
  {
   "cell_type": "code",
   "execution_count": 6,
   "metadata": {},
   "outputs": [],
   "source": [
    "tr = pd.read_csv('../../3.통합/7.시작 주 기준 펼치기/train_start_spread.csv')\n",
    "te = pd.read_csv('../../3.통합/7.시작 주 기준 펼치기/test_start_spread.csv')\n",
    "to = pd.concat([tr, te], sort=False)"
   ]
  },
  {
   "cell_type": "markdown",
   "metadata": {},
   "source": [
    "# 8610이 human에 포함된 2분할 훈련 자료 만들기"
   ]
  },
  {
   "cell_type": "code",
   "execution_count": 7,
   "metadata": {},
   "outputs": [
    {
     "name": "stdout",
     "output_type": "stream",
     "text": [
      "140000\n"
     ]
    }
   ],
   "source": [
    "human = pd.merge(to, id_human_8610, how='inner')\n",
    "auto = pd.merge(to, id_auto, how='inner')\n",
    "print(len(human) + len(auto))\n",
    "\n",
    "human.to_csv(\"total_human_1.csv\", index=False)\n",
    "auto.to_csv(\"total_auto_1.csv\", index=False)"
   ]
  },
  {
   "cell_type": "markdown",
   "metadata": {},
   "source": [
    "# 8610이 auto에 포함된 2분할 훈련자료 만들기"
   ]
  },
  {
   "cell_type": "code",
   "execution_count": 8,
   "metadata": {},
   "outputs": [
    {
     "name": "stdout",
     "output_type": "stream",
     "text": [
      "140000\n"
     ]
    }
   ],
   "source": [
    "human = pd.merge(to, id_human, how='inner')\n",
    "auto = pd.merge(to, id_auto_8610, how='inner')\n",
    "print(len(human) + len(auto))\n",
    "\n",
    "human.to_csv(\"total_human_2.csv\", index=False)\n",
    "auto.to_csv(\"total_auto_2.csv\", index=False)"
   ]
  }
 ],
 "metadata": {
  "kernelspec": {
   "display_name": "Python 3",
   "language": "python",
   "name": "python3"
  },
  "language_info": {
   "codemirror_mode": {
    "name": "ipython",
    "version": 3
   },
   "file_extension": ".py",
   "mimetype": "text/x-python",
   "name": "python",
   "nbconvert_exporter": "python",
   "pygments_lexer": "ipython3",
   "version": "3.7.3"
  }
 },
 "nbformat": 4,
 "nbformat_minor": 2
}
