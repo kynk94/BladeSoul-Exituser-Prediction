{
 "cells": [
  {
   "cell_type": "code",
   "execution_count": 1,
   "metadata": {},
   "outputs": [],
   "source": [
    "import pandas as pd"
   ]
  },
  {
   "cell_type": "markdown",
   "metadata": {},
   "source": [
    "# Dummy 계정 분류\n",
    "Dummy 계정은 튜토리얼만 클리어 한 계정이다.  \n",
    "대나무 마을에서 은광일 지부장을 잡는 퀘스트까지가 튜토리얼이며 이를 완료하면 거래가 가능하다.  \n",
    "따라서 이들은 거래만을 위해서 만들어진 Dummy 계정으로 생각할 수 있다.\n",
    "\n",
    "**이 때 얻는 퀘스트 경험치 총량은 8610이다.**"
   ]
  },
  {
   "cell_type": "code",
   "execution_count": 2,
   "metadata": {},
   "outputs": [],
   "source": [
    "tr = pd.read_csv('../3.통합/4.주당평균_파생변수/train_create_mean.csv')\n",
    "te = pd.read_csv('../3.통합/4.주당평균_파생변수/test_create_mean.csv')\n",
    "to = pd.concat([tr, te], sort=False)"
   ]
  },
  {
   "cell_type": "code",
   "execution_count": 3,
   "metadata": {
    "scrolled": true
   },
   "outputs": [],
   "source": [
    "to_8610 = to[to['activated_wk']*to['avg_quest_exp']==8610].reset_index(drop=True)\n",
    "to_8610['8610_id'] = 1\n",
    "to_8610 = to_8610[['acc_id', '8610_id']]"
   ]
  },
  {
   "cell_type": "code",
   "execution_count": 4,
   "metadata": {
    "scrolled": true
   },
   "outputs": [],
   "source": [
    "to_8610.to_csv('8610_list.csv', index=False)"
   ]
  }
 ],
 "metadata": {
  "kernelspec": {
   "display_name": "Python 3",
   "language": "python",
   "name": "python3"
  },
  "language_info": {
   "codemirror_mode": {
    "name": "ipython",
    "version": 3
   },
   "file_extension": ".py",
   "mimetype": "text/x-python",
   "name": "python",
   "nbconvert_exporter": "python",
   "pygments_lexer": "ipython3",
   "version": "3.7.3"
  }
 },
 "nbformat": 4,
 "nbformat_minor": 1
}
