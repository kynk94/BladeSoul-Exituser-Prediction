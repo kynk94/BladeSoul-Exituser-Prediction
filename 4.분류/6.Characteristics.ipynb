{
 "cells": [
  {
   "cell_type": "code",
   "execution_count": 1,
   "metadata": {},
   "outputs": [],
   "source": [
    "import pandas as pd"
   ]
  },
  {
   "cell_type": "markdown",
   "metadata": {},
   "source": [
    "# 전체 계정의 특징 분류\n",
    "* ant_id : auto 계정 중 재화수집 계층\n",
    "* master_id : auto 계정 중 관리자 계층\n",
    "* auto_id : ant_id와 master_id의 합\n",
    "* normal_id : 일반 계정\n",
    "* hard_id : hard play 계정\n",
    "* human_id : normal_id와 master_id의 합\n",
    "* 8610_id : 튜토리얼 계정\n",
    "* jump_id : 고속성장 계정"
   ]
  },
  {
   "cell_type": "code",
   "execution_count": 2,
   "metadata": {},
   "outputs": [],
   "source": [
    "tr = pd.read_csv('../3.통합/4.주당평균_파생변수/train_create_mean.csv')\n",
    "te = pd.read_csv('../3.통합/4.주당평균_파생변수/test_create_mean.csv')\n",
    "to = pd.concat([tr, te], sort=False)\n",
    "\n",
    "auto = pd.read_csv('auto_list.csv')\n",
    "hard = pd.read_csv('hard_list_fin.csv')\n",
    "dummy = pd.read_csv('8610_list.csv')\n",
    "jump = pd.read_csv('jump_list.csv')"
   ]
  },
  {
   "cell_type": "code",
   "execution_count": 3,
   "metadata": {
    "scrolled": true
   },
   "outputs": [],
   "source": [
    "total_list = pd.merge(auto, hard, how='outer').merge(dummy, how='outer').merge(jump, how='outer')\n",
    "total_list = total_list.sort_values(by='acc_id').reset_index(drop=True)"
   ]
  },
  {
   "cell_type": "code",
   "execution_count": 4,
   "metadata": {},
   "outputs": [],
   "source": [
    "normal = pd.DataFrame(set(to['acc_id'])-set(total_list['acc_id'])).rename(columns={0: 'acc_id'})\n",
    "normal['normal_id'] = 1\n",
    "\n",
    "total_list = pd.merge(total_list, normal, how='outer')"
   ]
  },
  {
   "cell_type": "code",
   "execution_count": 5,
   "metadata": {
    "scrolled": true
   },
   "outputs": [],
   "source": [
    "human = pd.DataFrame(total_list[\n",
    "    (total_list['normal_id']==1)\n",
    "    | (total_list['hard_id']==1)\n",
    "]['acc_id']).rename(columns={0: 'acc_id'}).reset_index(drop=True)\n",
    "human['human_id'] = 1\n",
    "\n",
    "total_list = pd.merge(total_list, human, how='outer').sort_values(by='acc_id').reset_index(drop=True).fillna(0)\n",
    "total_list = total_list[['acc_id', 'ant_id', 'master_id', 'auto_id', 'normal_id', 'hard_id', 'human_id', '8610_id', 'jump_id']]\n",
    "total_list[total_list.columns[1:]] = total_list[total_list.columns[1:]].astype(int)"
   ]
  },
  {
   "cell_type": "code",
   "execution_count": 6,
   "metadata": {
    "scrolled": true
   },
   "outputs": [
    {
     "data": {
      "text/html": [
       "<div>\n",
       "<style scoped>\n",
       "    .dataframe tbody tr th:only-of-type {\n",
       "        vertical-align: middle;\n",
       "    }\n",
       "\n",
       "    .dataframe tbody tr th {\n",
       "        vertical-align: top;\n",
       "    }\n",
       "\n",
       "    .dataframe thead th {\n",
       "        text-align: right;\n",
       "    }\n",
       "</style>\n",
       "<table border=\"1\" class=\"dataframe\">\n",
       "  <thead>\n",
       "    <tr style=\"text-align: right;\">\n",
       "      <th></th>\n",
       "      <th>acc_id</th>\n",
       "      <th>ant_id</th>\n",
       "      <th>master_id</th>\n",
       "      <th>auto_id</th>\n",
       "      <th>normal_id</th>\n",
       "      <th>hard_id</th>\n",
       "      <th>human_id</th>\n",
       "      <th>8610_id</th>\n",
       "      <th>jump_id</th>\n",
       "    </tr>\n",
       "  </thead>\n",
       "  <tbody>\n",
       "    <tr>\n",
       "      <th>0</th>\n",
       "      <td>0000264b01392acfde44f9d8494f112a701dc5d3e5fda6...</td>\n",
       "      <td>1</td>\n",
       "      <td>0</td>\n",
       "      <td>1</td>\n",
       "      <td>0</td>\n",
       "      <td>0</td>\n",
       "      <td>0</td>\n",
       "      <td>0</td>\n",
       "      <td>0</td>\n",
       "    </tr>\n",
       "    <tr>\n",
       "      <th>1</th>\n",
       "      <td>0001f130e89288ff0df167b998f6eb7085687f411fcb72...</td>\n",
       "      <td>0</td>\n",
       "      <td>0</td>\n",
       "      <td>0</td>\n",
       "      <td>1</td>\n",
       "      <td>0</td>\n",
       "      <td>1</td>\n",
       "      <td>0</td>\n",
       "      <td>0</td>\n",
       "    </tr>\n",
       "    <tr>\n",
       "      <th>2</th>\n",
       "      <td>00028f0ad71c07f48aef465fd0c98ba6e3f0f3de3d2f7d...</td>\n",
       "      <td>0</td>\n",
       "      <td>0</td>\n",
       "      <td>0</td>\n",
       "      <td>0</td>\n",
       "      <td>0</td>\n",
       "      <td>0</td>\n",
       "      <td>1</td>\n",
       "      <td>0</td>\n",
       "    </tr>\n",
       "    <tr>\n",
       "      <th>3</th>\n",
       "      <td>0002a56a036206aea3a6c6ebc985df4a2d1987b562e7f0...</td>\n",
       "      <td>0</td>\n",
       "      <td>0</td>\n",
       "      <td>0</td>\n",
       "      <td>0</td>\n",
       "      <td>0</td>\n",
       "      <td>0</td>\n",
       "      <td>0</td>\n",
       "      <td>1</td>\n",
       "    </tr>\n",
       "    <tr>\n",
       "      <th>4</th>\n",
       "      <td>00036e5b6a197c196fa10fc0ad4e2853b22294dff64d27...</td>\n",
       "      <td>1</td>\n",
       "      <td>0</td>\n",
       "      <td>1</td>\n",
       "      <td>0</td>\n",
       "      <td>0</td>\n",
       "      <td>0</td>\n",
       "      <td>0</td>\n",
       "      <td>0</td>\n",
       "    </tr>\n",
       "  </tbody>\n",
       "</table>\n",
       "</div>"
      ],
      "text/plain": [
       "                                              acc_id  ant_id  master_id  \\\n",
       "0  0000264b01392acfde44f9d8494f112a701dc5d3e5fda6...       1          0   \n",
       "1  0001f130e89288ff0df167b998f6eb7085687f411fcb72...       0          0   \n",
       "2  00028f0ad71c07f48aef465fd0c98ba6e3f0f3de3d2f7d...       0          0   \n",
       "3  0002a56a036206aea3a6c6ebc985df4a2d1987b562e7f0...       0          0   \n",
       "4  00036e5b6a197c196fa10fc0ad4e2853b22294dff64d27...       1          0   \n",
       "\n",
       "   auto_id  normal_id  hard_id  human_id  8610_id  jump_id  \n",
       "0        1          0        0         0        0        0  \n",
       "1        0          1        0         1        0        0  \n",
       "2        0          0        0         0        1        0  \n",
       "3        0          0        0         0        0        1  \n",
       "4        1          0        0         0        0        0  "
      ]
     },
     "execution_count": 6,
     "metadata": {},
     "output_type": "execute_result"
    }
   ],
   "source": [
    "total_list.head()"
   ]
  },
  {
   "cell_type": "code",
   "execution_count": 7,
   "metadata": {},
   "outputs": [],
   "source": [
    "total_list.to_csv('total_list.csv',index=False)"
   ]
  }
 ],
 "metadata": {
  "kernelspec": {
   "display_name": "Python 3",
   "language": "python",
   "name": "python3"
  },
  "language_info": {
   "codemirror_mode": {
    "name": "ipython",
    "version": 3
   },
   "file_extension": ".py",
   "mimetype": "text/x-python",
   "name": "python",
   "nbconvert_exporter": "python",
   "pygments_lexer": "ipython3",
   "version": "3.7.3"
  }
 },
 "nbformat": 4,
 "nbformat_minor": 1
}
