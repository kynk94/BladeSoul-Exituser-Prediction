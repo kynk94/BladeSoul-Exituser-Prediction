{
 "cells": [
  {
   "cell_type": "code",
   "execution_count": 1,
   "metadata": {},
   "outputs": [],
   "source": [
    "import pandas as pd"
   ]
  },
  {
   "cell_type": "markdown",
   "metadata": {},
   "source": [
    "# Jumping Character\n",
    "고속성장이용권을 사용하여 캐릭터를 생성했을 때 튜토리얼을 완료하면 홍문 퀘스트 경험치 4,500,000을 얻는다.  \n",
    "이를 따로 분류한다."
   ]
  },
  {
   "cell_type": "code",
   "execution_count": 2,
   "metadata": {},
   "outputs": [],
   "source": [
    "tr = pd.read_csv('../3.통합/4.주당평균_파생변수/train_create_mean.csv')\n",
    "te = pd.read_csv('../3.통합/4.주당평균_파생변수/test_create_mean.csv')\n",
    "to = pd.concat([tr, te], sort=False)"
   ]
  },
  {
   "cell_type": "code",
   "execution_count": 3,
   "metadata": {},
   "outputs": [],
   "source": [
    "to_jump = to[to['activated_wk']*to['avg_quest_hongmun']==4.5e6].reset_index(drop=True)\n",
    "to_jump['jump_id'] = 1\n",
    "to_jump = to_jump[['acc_id', 'jump_id']]"
   ]
  },
  {
   "cell_type": "code",
   "execution_count": 4,
   "metadata": {},
   "outputs": [],
   "source": [
    "to_jump.to_csv('jump_list.csv', index=False)"
   ]
  }
 ],
 "metadata": {
  "kernelspec": {
   "display_name": "Python 3",
   "language": "python",
   "name": "python3"
  },
  "language_info": {
   "codemirror_mode": {
    "name": "ipython",
    "version": 3
   },
   "file_extension": ".py",
   "mimetype": "text/x-python",
   "name": "python",
   "nbconvert_exporter": "python",
   "pygments_lexer": "ipython3",
   "version": "3.7.3"
  }
 },
 "nbformat": 4,
 "nbformat_minor": 1
}
