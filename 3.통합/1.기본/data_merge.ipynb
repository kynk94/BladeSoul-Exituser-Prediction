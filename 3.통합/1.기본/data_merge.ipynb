{
 "cells": [
  {
   "cell_type": "code",
   "execution_count": 1,
   "metadata": {},
   "outputs": [],
   "source": [
    "import pandas as pd"
   ]
  },
  {
   "cell_type": "code",
   "execution_count": 2,
   "metadata": {},
   "outputs": [],
   "source": [
    "# 전처리를 마친 데이터를 하나로 합친다.\n",
    "tr_act = pd.read_csv('../../preprocess/train_activity_pre.csv')\n",
    "te_act = pd.read_csv('../../preprocess/test_activity_pre.csv')\n",
    "tr_party = pd.read_csv('../../preprocess/train_party_pre.csv')\n",
    "te_party = pd.read_csv('../../preprocess/test_party_pre.csv')\n",
    "to_trade = pd.read_csv('../../preprocess/trade_sum.csv')\n",
    "tr_pay = pd.read_csv('../../preprocess/train_payment_pre.csv')\n",
    "te_pay = pd.read_csv('../../preprocess/test_payment_pre.csv')\n",
    "tr_guild = pd.read_csv('../../preprocess/train_guild_pre.csv')\n",
    "te_guild = pd.read_csv('../../preprocess/test_guild_pre.csv')"
   ]
  },
  {
   "cell_type": "code",
   "execution_count": 3,
   "metadata": {},
   "outputs": [],
   "source": [
    "to_trade.rename(columns={'trade_week': 'wk'}, inplace=True)\n",
    "tr_pay.rename(columns={'payment_week': 'wk'}, inplace=True)\n",
    "te_pay.rename(columns={'payment_week': 'wk'}, inplace=True)\n",
    "tr_guild = tr_guild.drop(['guild_id', 'max_guild_id'], axis=1).fillna(0)\n",
    "te_guild = te_guild.drop(['guild_id', 'max_guild_id'], axis=1).fillna(0)"
   ]
  },
  {
   "cell_type": "code",
   "execution_count": 4,
   "metadata": {
    "scrolled": true
   },
   "outputs": [],
   "source": [
    "tr = pd.merge(tr_act, tr_party, on=['acc_id', 'wk'], how='left')\n",
    "tr = pd.merge(tr, tr_guild, on='acc_id', how='left')\n",
    "tr = pd.merge(tr, to_trade, on=['acc_id', 'wk'], how='left')\n",
    "tr = pd.merge(tr, tr_pay, on=['acc_id', 'wk'], how='left').fillna(0).sort_values(by=['acc_id','wk'])\n",
    "\n",
    "te = pd.merge(te_act, te_party, on=['acc_id', 'wk'], how='left')\n",
    "te = pd.merge(te, te_guild, on='acc_id', how='left')\n",
    "te = pd.merge(te, to_trade, on=['acc_id', 'wk'], how='left')\n",
    "te = pd.merge(te, te_pay, on=['acc_id', 'wk'], how='left').fillna(0).sort_values(by=['acc_id','wk'])"
   ]
  },
  {
   "cell_type": "code",
   "execution_count": 5,
   "metadata": {},
   "outputs": [
    {
     "data": {
      "text/plain": [
       "Index(['wk', 'acc_id', 'cnt_dt', 'play_time', 'npc_exp', 'npc_hongmun',\n",
       "       'quest_exp', 'quest_hongmun', 'item_hongmun', 'game_combat_time',\n",
       "       'get_money', 'duel_cnt', 'duel_win', 'partybattle_cnt',\n",
       "       'partybattle_win', 'cnt_enter_inzone_solo', 'cnt_enter_inzone_light',\n",
       "       'cnt_enter_inzone_skilled', 'cnt_enter_inzone_normal', 'cnt_enter_raid',\n",
       "       'cnt_enter_raid_light', 'cnt_enter_bam', 'cnt_clear_inzone_solo',\n",
       "       'cnt_clear_inzone_light', 'cnt_clear_inzone_skilled',\n",
       "       'cnt_clear_inzone_normal', 'cnt_clear_raid', 'cnt_clear_raid_light',\n",
       "       'cnt_clear_bam', 'normal_chat', 'whisper_chat', 'district_chat',\n",
       "       'party_chat', 'guild_chat', 'faction_chat', 'cnt_use_buffitem',\n",
       "       'gathering_cnt', 'making_cnt', 'party_time', 'party_count',\n",
       "       'party_mem_count', 'mean_party_time', 'mean_party_mem',\n",
       "       'total_guild_mem', 'guild_count', 'max_guild_mem', 'mean_guild_mem',\n",
       "       'trade_count', 'rec_count', 'give_count', 'rec_money_count',\n",
       "       'rec_money_sum', 'give_money_count', 'give_money_sum',\n",
       "       'rec_grocery_count', 'rec_grocery_sum', 'give_grocery_count',\n",
       "       'give_grocery_sum', 'rec_gem_count', 'rec_gem_sum', 'give_gem_count',\n",
       "       'give_gem_sum', 'rec_accessory_count', 'rec_accessory_sum',\n",
       "       'give_accessory_count', 'give_accessory_sum', 'rec_weapon_count',\n",
       "       'rec_weapon_sum', 'give_weapon_count', 'give_weapon_sum',\n",
       "       'rec_costume_count', 'rec_costume_sum', 'give_costume_count',\n",
       "       'give_costume_sum', 'payment_amount'],\n",
       "      dtype='object')"
      ]
     },
     "execution_count": 5,
     "metadata": {},
     "output_type": "execute_result"
    }
   ],
   "source": [
    "tr.columns"
   ]
  },
  {
   "cell_type": "code",
   "execution_count": 6,
   "metadata": {},
   "outputs": [],
   "source": [
    "tr.to_csv('train_merge_basic.csv', index=False)\n",
    "te.to_csv('test_merge_basic.csv', index=False)"
   ]
  }
 ],
 "metadata": {
  "kernelspec": {
   "display_name": "Python 3",
   "language": "python",
   "name": "python3"
  },
  "language_info": {
   "codemirror_mode": {
    "name": "ipython",
    "version": 3
   },
   "file_extension": ".py",
   "mimetype": "text/x-python",
   "name": "python",
   "nbconvert_exporter": "python",
   "pygments_lexer": "ipython3",
   "version": "3.7.3"
  }
 },
 "nbformat": 4,
 "nbformat_minor": 1
}
