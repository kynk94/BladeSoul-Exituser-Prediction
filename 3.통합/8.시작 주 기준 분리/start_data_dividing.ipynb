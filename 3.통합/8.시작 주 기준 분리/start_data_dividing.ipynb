{
 "cells": [
  {
   "cell_type": "code",
   "execution_count": 1,
   "metadata": {},
   "outputs": [],
   "source": [
    "import pandas as pd\n",
    "from tqdm import trange"
   ]
  },
  {
   "cell_type": "code",
   "execution_count": 2,
   "metadata": {},
   "outputs": [],
   "source": [
    "tr = pd.read_csv('../7.시작 주 기준 펼치기/train_start_spread.csv')\n",
    "te = pd.read_csv('../7.시작 주 기준 펼치기/test_start_spread.csv')"
   ]
  },
  {
   "cell_type": "code",
   "execution_count": 3,
   "metadata": {},
   "outputs": [
    {
     "name": "stderr",
     "output_type": "stream",
     "text": [
      "100%|████████████████████████████████████████████████████████████████████████████████████| 8/8 [01:22<00:00, 16.34s/it]\n"
     ]
    }
   ],
   "source": [
    "tr_week = {}\n",
    "te_week = {}\n",
    "for i in trange(1, 9):\n",
    "    tr_week[i] = tr[tr['activated_wk']==i]\n",
    "    tr_week[i] = tr_week[i].loc[:, (tr_week[i] != 0).any(axis=0)]\n",
    "    tr_week[i].to_csv('train_start_{}wk.csv'.format(i), index=False)\n",
    "    \n",
    "    te_week[i] = te[te['activated_wk']==i]\n",
    "    te_week[i] = te_week[i].loc[:, (te_week[i] != 0).any(axis=0)]\n",
    "    te_week[i].to_csv('test_start_{}wk.csv'.format(i), index=False)"
   ]
  }
 ],
 "metadata": {
  "kernelspec": {
   "display_name": "Python 3",
   "language": "python",
   "name": "python3"
  },
  "language_info": {
   "codemirror_mode": {
    "name": "ipython",
    "version": 3
   },
   "file_extension": ".py",
   "mimetype": "text/x-python",
   "name": "python",
   "nbconvert_exporter": "python",
   "pygments_lexer": "ipython3",
   "version": "3.7.3"
  }
 },
 "nbformat": 4,
 "nbformat_minor": 2
}
